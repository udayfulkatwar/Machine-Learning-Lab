{
  "nbformat": 4,
  "nbformat_minor": 0,
  "metadata": {
    "colab": {
      "provenance": []
    },
    "kernelspec": {
      "name": "python3",
      "display_name": "Python 3"
    },
    "language_info": {
      "name": "python"
    }
  },
  "cells": [
    {
      "cell_type": "code",
      "execution_count": 2,
      "metadata": {
        "id": "fM7Trj3S-McV"
      },
      "outputs": [],
      "source": [
        "import numpy as np\n",
        "import pandas as pd\n",
        "import matplotlib.pyplot as plt"
      ]
    },
    {
      "cell_type": "code",
      "source": [
        "data = np.array([\n",
        "    [2.5, 2.4, 1.2],\n",
        "    [0.5, 0.7, 0.3],\n",
        "    [2.2, 2.9, 1.4],\n",
        "    [1.9, 2.2, 1.4],\n",
        "    [3.1, 3.0, 1.7],\n",
        "    [2.3, 2.7, 1.5],\n",
        "    [2.0, 1.6, 0.9],\n",
        "    [1.0, 1.1, 0.4],\n",
        "    [1.5, 1.6, 0.8],\n",
        "    [1.1, 0.9, 0.2]\n",
        "])"
      ],
      "metadata": {
        "id": "DM6bVk1C-2Ix"
      },
      "execution_count": 8,
      "outputs": []
    },
    {
      "cell_type": "code",
      "source": [
        "df = pd.DataFrame(data, columns=['x1', 'x2', 'y'])"
      ],
      "metadata": {
        "id": "_ZHWAB77_5Wh"
      },
      "execution_count": 9,
      "outputs": []
    },
    {
      "cell_type": "code",
      "source": [
        "standardized_data = (df - df.mean()) / df.std()"
      ],
      "metadata": {
        "id": "FrTZCZFXALLp"
      },
      "execution_count": 10,
      "outputs": []
    },
    {
      "cell_type": "code",
      "source": [
        "cov_matrix = np.cov(standardized_data.T)"
      ],
      "metadata": {
        "id": "CshXbMdOAFZa"
      },
      "execution_count": 15,
      "outputs": []
    },
    {
      "cell_type": "code",
      "source": [
        "eig_vals, eig_vecs = np.linalg.eig(cov_matrix)"
      ],
      "metadata": {
        "id": "SkPRLWWZBUZw"
      },
      "execution_count": 16,
      "outputs": []
    },
    {
      "cell_type": "code",
      "source": [
        "sorted_indices = np.argsort(eig_vals)[::-1]\n",
        "sorted_eig_vals = eig_vals[sorted_indices]\n",
        "sorted_eig_vecs = eig_vecs[:, sorted_indices]"
      ],
      "metadata": {
        "id": "tMhMxUAXBwqQ"
      },
      "execution_count": 17,
      "outputs": []
    },
    {
      "cell_type": "code",
      "source": [
        "eig_vecs_subset = eig_vecs[:, :2]"
      ],
      "metadata": {
        "id": "qxiJTmIAB3yo"
      },
      "execution_count": 19,
      "outputs": []
    },
    {
      "cell_type": "code",
      "source": [
        "reduced_data = standardized_data.to_numpy().dot(eig_vecs_subset)\n",
        "reduced_data = pd.DataFrame(reduced_data, columns=['PC1', 'PC2'])"
      ],
      "metadata": {
        "id": "o7q_oxbfB9kI"
      },
      "execution_count": 22,
      "outputs": []
    },
    {
      "cell_type": "code",
      "source": [
        "print(\"\\nReduced Data (after PCA): \\n\", reduced_data)"
      ],
      "metadata": {
        "colab": {
          "base_uri": "https://localhost:8080/"
        },
        "id": "6gNP6T6fC1fo",
        "outputId": "b32ae95b-2c96-40a6-f767-407939e907bb"
      },
      "execution_count": 24,
      "outputs": [
        {
          "output_type": "stream",
          "name": "stdout",
          "text": [
            "\n",
            "Reduced Data (after PCA): \n",
            "         PC1       PC2\n",
            "0  1.073689  0.335609\n",
            "1 -2.511745 -0.298531\n",
            "2  1.413875 -0.344491\n",
            "3  0.714595 -0.388087\n",
            "4  2.457530  0.288456\n",
            "5  1.456044 -0.252032\n",
            "6 -0.160889  0.387008\n",
            "7 -1.766447 -0.020145\n",
            "8 -0.631095 -0.044738\n",
            "9 -2.045557  0.336952\n"
          ]
        }
      ]
    },
    {
      "cell_type": "code",
      "source": [
        "plt.figure(figsize=(8, 6))\n",
        "plt.scatter(reduced_data['PC1'], reduced_data['PC2'], color='blue',edgecolor='k')\n",
        "plt.title('2D PCA Projection')\n",
        "plt.xlabel('PC1')\n",
        "plt.ylabel('PC2')\n",
        "plt.grid(True)\n",
        "plt.show()"
      ],
      "metadata": {
        "colab": {
          "base_uri": "https://localhost:8080/",
          "height": 564
        },
        "id": "aBHS2MYxDMdC",
        "outputId": "bed891d9-b3df-43a4-ff9b-d5b3d35e5f2d"
      },
      "execution_count": 25,
      "outputs": [
        {
          "output_type": "display_data",
          "data": {
            "text/plain": [
              "<Figure size 800x600 with 1 Axes>"
            ],
            "image/png": "[encoded data removed]"
          },
          "metadata": {}
        }
      ]
    },
    {
      "cell_type": "code",
      "source": [],
      "metadata": {
        "id": "OGwTnKfrEizq"
      },
      "execution_count": null,
      "outputs": []
    }
  ]
}