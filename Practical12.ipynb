{
 "cells": [
  {
   "cell_type": "code",
   "execution_count": 1,
   "id": "c4ce2dd0-6acd-4ff1-b03e-339cfe6e545b",
   "metadata": {},
   "outputs": [],
   "source": [
    "import numpy as np \n",
    "import pandas as pd\n",
    "import matplotlib.pyplot as plt"
   ]
  },
  {
   "cell_type": "code",
   "execution_count": 2,
   "id": "5121f42d-ecfb-4b68-976d-e5b1c0a8ac18",
   "metadata": {},
   "outputs": [],
   "source": [
    "X = np.array ([1.,1.,3.,4.,5.])\n",
    "y = np.array ([0.,0.,0.,0.,0.,])\n",
    "m = len(y)"
   ]
  },
  {
   "cell_type": "code",
   "execution_count": 3,
   "id": "f83c6991-7d75-4344-ac9a-c9d51d7af7f0",
   "metadata": {},
   "outputs": [],
   "source": [
    "def sigmoid(z):\n",
    "    return 1.0/(1.0 + np.exp(-z))"
   ]
  },
  {
   "cell_type": "code",
   "execution_count": 4,
   "id": "878453d5-1bb4-483d-9253-9d1d79be6280",
   "metadata": {},
   "outputs": [],
   "source": [
    "b0 = 0.0\n",
    "b1 = 0.0\n",
    "alpha = 0.1"
   ]
  },
  {
   "cell_type": "code",
   "execution_count": 5,
   "id": "08200cdc-9dc6-4cae-8d3b-059989faa0a1",
   "metadata": {},
   "outputs": [
    {
     "name": "stdout",
     "output_type": "stream",
     "text": [
      "Initial cost: 0.6931471805599433\n"
     ]
    }
   ],
   "source": [
    "z = b0 +b1 * X\n",
    "h = sigmoid(z)\n",
    "eps = 1e-15\n",
    "initial_cost = - (1.0/m)* np.sum(y* np.log(h+ eps)+ (1-y)*np.log(1-h + eps))\n",
    "print(\"Initial cost:\", initial_cost)"
   ]
  },
  {
   "cell_type": "code",
   "execution_count": 10,
   "id": "807b606a-c985-42c5-b8b4-3036d73f923b",
   "metadata": {},
   "outputs": [
    {
     "name": "stdout",
     "output_type": "stream",
     "text": [
      "grad_b0 =  0.5\n",
      "grad_b1 =  1.4\n"
     ]
    }
   ],
   "source": [
    "h_minus_y = h - y\n",
    "grad_b0 = np.mean(h_minus_y)\n",
    "grad_b1 = np.mean(h_minus_y * X)\n",
    "print(\"grad_b0 = \", grad_b0)\n",
    "print(\"grad_b1 = \", grad_b1)"
   ]
  },
  {
   "cell_type": "code",
   "execution_count": 11,
   "id": "1f23cc33-1e43-46f7-b9f7-d2095c348d8d",
   "metadata": {},
   "outputs": [
    {
     "name": "stdout",
     "output_type": "stream",
     "text": [
      "After one update: b0 = -0.05 ,b1= -0.13999999999999999\n"
     ]
    }
   ],
   "source": [
    "b0_new = b0 - alpha * grad_b0\n",
    "b1_new = b1 - alpha * grad_b1\n",
    "print(\"After one update: b0 =\", b0_new,\",b1=\",b1_new)"
   ]
  },
  {
   "cell_type": "code",
   "execution_count": 13,
   "id": "d8dcc9e2-7af4-4d98-8c37-3778d2292a82",
   "metadata": {},
   "outputs": [
    {
     "name": "stdout",
     "output_type": "stream",
     "text": [
      "\n",
      "Final parameters after 2000 iterations:\n",
      "b0 =  -2.2642301036707857\n",
      "b1 = -2.8189758642493357\n",
      "Decision boundary x = -0.8032101772796579\n",
      "Final cost J = 0.0024782626383678744\n"
     ]
    }
   ],
   "source": [
    "b0, b1 = 0.0,0.0\n",
    "n_iter = 2000\n",
    "history = []\n",
    "for it in range(n_iter):\n",
    "    z = b0 + b1 * X\n",
    "    h = sigmoid(z)\n",
    "    grad_b0 = np.mean(h - y)\n",
    "    grad_b1 = np.mean((h-y)*X)\n",
    "    cost = -(1.0/m)* np.sum(y * np.log(h + eps)+ (1 - y)* np.log(1 - h + eps))\n",
    "    history.append((it, b0,b1, cost))\n",
    "    b0 -=alpha * grad_b0\n",
    "    b1 -=alpha * grad_b1\n",
    "\n",
    "print(\"\\nFinal parameters after {} iterations:\".format(n_iter))\n",
    "print(\"b0 = \", b0)\n",
    "print(\"b1 =\", b1)\n",
    "decision_boundary = -b0/b1\n",
    "print(\"Decision boundary x =\",decision_boundary)\n",
    "print(\"Final cost J =\", history[-1][3])"
   ]
  },
  {
   "cell_type": "code",
   "execution_count": 17,
   "id": "37a0f336-b26e-4103-b8c4-9e4b845eb25b",
   "metadata": {},
   "outputs": [
    {
     "data": {
      "image/png": "[encoded data removed]",
      "text/plain": [
       "<Figure size 800x500 with 1 Axes>"
      ]
     },
     "metadata": {},
     "output_type": "display_data"
    }
   ],
   "source": [
    "X_plot = np.linspace(0, 6 , 200)\n",
    "y_plot = sigmoid(b0 +  b1 * X_plot)\n",
    "\n",
    "plt.figure(figsize=(8,5))\n",
    "plt.scatter(X,y)\n",
    "plt.plot(X_plot, y_plot)\n",
    "plt.axhline(0.5, linestyle='--')\n",
    "plt.title(\"Logistic regression fit (manual gradient descent)\")\n",
    "plt.xlabel(\"Study hours\")\n",
    "plt.ylabel(\"P(pass)\")\n",
    "plt.grid(True)\n",
    "plt.show()"
   ]
  },
  {
   "cell_type": "code",
   "execution_count": null,
   "id": "8f1609a7-a075-40ef-a972-282ef265c08c",
   "metadata": {},
   "outputs": [],
   "source": []
  }
 ],
 "metadata": {
  "kernelspec": {
   "display_name": "Python 3 (ipykernel)",
   "language": "python",
   "name": "python3"
  },
  "language_info": {
   "codemirror_mode": {
    "name": "ipython",
    "version": 3
   },
   "file_extension": ".py",
   "mimetype": "text/x-python",
   "name": "python",
   "nbconvert_exporter": "python",
   "pygments_lexer": "ipython3",
   "version": "3.13.5"
  }
 },
 "nbformat": 4,
 "nbformat_minor": 5
}
