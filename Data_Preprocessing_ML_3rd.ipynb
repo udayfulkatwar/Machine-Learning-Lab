{
  "nbformat": 4,
  "nbformat_minor": 0,
  "metadata": {
    "colab": {
      "provenance": []
    },
    "kernelspec": {
      "name": "python3",
      "display_name": "Python 3"
    },
    "language_info": {
      "name": "python"
    }
  },
  "cells": [
    {
      "cell_type": "code",
      "execution_count": 2,
      "metadata": {
        "id": "Vl-4yIwg3jH2"
      },
      "outputs": [],
      "source": [
        "import pandas as pd\n",
        "import numpy as np\n",
        "import seaborn as sns\n",
        "import matplotlib.pyplot as plt\n",
        "from sklearn.preprocessing import LabelEncoder, StandardScaler, MinMaxScaler"
      ]
    },
    {
      "cell_type": "code",
      "source": [
        "url = \"https://raw.githubusercontent.com/selva86/datasets/master/BostonHousing.csv\"\n",
        "df = pd.read_csv(url)"
      ],
      "metadata": {
        "id": "Pb9yCjhC_rBw"
      },
      "execution_count": 3,
      "outputs": []
    },
    {
      "cell_type": "code",
      "source": [
        "print(df.info())\n",
        "print(df.head())\n",
        "print(\"\\nMissing Values:\\n\", df.isnull().sum())"
      ],
      "metadata": {
        "colab": {
          "base_uri": "https://localhost:8080/"
        },
        "id": "24kCJeKiAkT6",
        "outputId": "439cd244-3d86-4d91-e1c1-0b4d158e646a"
      },
      "execution_count": 14,
      "outputs": [
        {
          "output_type": "stream",
          "name": "stdout",
          "text": [
            "<class 'pandas.core.frame.DataFrame'>\n",
            "RangeIndex: 506 entries, 0 to 505\n",
            "Data columns (total 14 columns):\n",
            " #   Column   Non-Null Count  Dtype  \n",
            "---  ------   --------------  -----  \n",
            " 0   crim     506 non-null    float64\n",
            " 1   zn       506 non-null    float64\n",
            " 2   indus    506 non-null    float64\n",
            " 3   chas     506 non-null    int64  \n",
            " 4   nox      506 non-null    float64\n",
            " 5   rm       506 non-null    float64\n",
            " 6   age      506 non-null    float64\n",
            " 7   dis      506 non-null    float64\n",
            " 8   rad      506 non-null    int64  \n",
            " 9   tax      506 non-null    int64  \n",
            " 10  ptratio  506 non-null    float64\n",
            " 11  b        506 non-null    float64\n",
            " 12  lstat    506 non-null    float64\n",
            " 13  medv     506 non-null    float64\n",
            "dtypes: float64(11), int64(3)\n",
            "memory usage: 55.5 KB\n",
            "None\n",
            "      crim    zn  indus  chas    nox  ...  tax  ptratio       b  lstat  medv\n",
            "0  0.00632  18.0   2.31     0  0.538  ...  296     15.3  396.90   4.98  24.0\n",
            "1  0.02731   0.0   7.07     0  0.469  ...  242     17.8  396.90   9.14  21.6\n",
            "2  0.02729   0.0   7.07     0  0.469  ...  242     17.8  392.83   4.03  34.7\n",
            "3  0.03237   0.0   2.18     0  0.458  ...  222     18.7  394.63   2.94  33.4\n",
            "4  0.06905   0.0   2.18     0  0.458  ...  222     18.7  396.90   5.33  36.2\n",
            "\n",
            "[5 rows x 14 columns]\n",
            "\n",
            "Missing Values:\n",
            " crim       0\n",
            "zn         0\n",
            "indus      0\n",
            "chas       0\n",
            "nox        0\n",
            "rm         0\n",
            "age        0\n",
            "dis        0\n",
            "rad        0\n",
            "tax        0\n",
            "ptratio    0\n",
            "b          0\n",
            "lstat      0\n",
            "medv       0\n",
            "dtype: int64\n"
          ]
        }
      ]
    },
    {
      "cell_type": "code",
      "source": [
        "df.loc[5:10, 'crim'] = np.nan\n",
        "df.loc[15:18, 'age'] = np.nan"
      ],
      "metadata": {
        "id": "6OUGY9gKA15x"
      },
      "execution_count": 8,
      "outputs": []
    },
    {
      "cell_type": "code",
      "source": [
        "df['crim'] = df['crim'].fillna(df['crim'].mean())\n",
        "df['age'] = df['age'].fillna(df['age'].median())"
      ],
      "metadata": {
        "id": "05TgZ460BF2K"
      },
      "execution_count": 9,
      "outputs": []
    },
    {
      "cell_type": "code",
      "source": [
        "Q1 = df['tax'].quantile(0.25)\n",
        "Q3 = df['tax'].quantile(0.75)\n",
        "IQR = Q3 - Q1\n",
        "outliers = df[(df['tax'] < Q1 - 1.5 * IQR) | (df['tax'] > Q3 + 1.5 * IQR)]\n",
        "print(f\"Number of outliers in 'tax': {outliers.shape[0]}\")"
      ],
      "metadata": {
        "colab": {
          "base_uri": "https://localhost:8080/"
        },
        "id": "TgJIDenWBNLS",
        "outputId": "fe863e60-7971-41f9-a545-d8bfb7c7537a"
      },
      "execution_count": 11,
      "outputs": [
        {
          "output_type": "stream",
          "name": "stdout",
          "text": [
            "Number of outliers in 'tax': 0\n"
          ]
        }
      ]
    },
    {
      "cell_type": "code",
      "source": [
        "df['neighbour'] = np.random.choice(['A', 'B', 'C'], size=len(df))\n",
        "print(df.head())"
      ],
      "metadata": {
        "colab": {
          "base_uri": "https://localhost:8080/"
        },
        "id": "CCdC60TsFBUM",
        "outputId": "9280734a-729d-4d6f-841d-403d1b71aa9a"
      },
      "execution_count": 20,
      "outputs": [
        {
          "output_type": "stream",
          "name": "stdout",
          "text": [
            "      crim    zn  indus  chas    nox  ...  ptratio       b  lstat  medv  neighbour\n",
            "0  0.00632  18.0   2.31     0  0.538  ...     15.3  396.90   4.98  24.0          C\n",
            "1  0.02731   0.0   7.07     0  0.469  ...     17.8  396.90   9.14  21.6          A\n",
            "2  0.02729   0.0   7.07     0  0.469  ...     17.8  392.83   4.03  34.7          A\n",
            "3  0.03237   0.0   2.18     0  0.458  ...     18.7  394.63   2.94  33.4          B\n",
            "4  0.06905   0.0   2.18     0  0.458  ...     18.7  396.90   5.33  36.2          B\n",
            "\n",
            "[5 rows x 15 columns]\n"
          ]
        }
      ]
    },
    {
      "cell_type": "code",
      "source": [],
      "metadata": {
        "id": "ikfBLIJ4JEtk"
      },
      "execution_count": null,
      "outputs": []
    }
  ]
}